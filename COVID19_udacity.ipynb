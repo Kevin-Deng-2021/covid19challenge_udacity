{
 "cells": [
  {
   "cell_type": "code",
   "execution_count": null,
   "metadata": {
    "_cell_guid": "b1076dfc-b9ad-4769-8c92-a6c4dae69d19",
    "_uuid": "8f2839f25d086af736a60e9eeb907d3b93b6e0e5"
   },
   "outputs": [],
   "source": [
    "import numpy as np # linear algebra\n",
    "import pandas as pd # data processing, CSV file I/O (e.g. pd.read_csv)\n",
    "import matplotlib.pyplot as plt\n",
    "from matplotlib import dates\n",
    "import datetime\n",
    "\n",
    "import plotly.graph_objects as go\n",
    "import plotly.express as px\n",
    "import plotly.io as pio\n",
    "pio.templates.default = \"plotly_dark\"\n",
    "from plotly.subplots import make_subplots\n",
    "\n",
    "import os\n",
    "for dirname, _, filenames in os.walk('/kaggle/input'):\n",
    "    for filename in filenames:\n",
    "        print(os.path.join(dirname, filename))\n",
    "        "
   ]
  },
  {
   "cell_type": "markdown",
   "metadata": {},
   "source": [
    "## Load train/test dataset"
   ]
  },
  {
   "cell_type": "code",
   "execution_count": null,
   "metadata": {
    "_cell_guid": "79c7e3d0-c299-4dcb-8224-4455121ee9b0",
    "_uuid": "d629ff2d2480ee46fbb7e2d37f6b5fab8052498a"
   },
   "outputs": [],
   "source": [
    "train = pd.read_csv('../input/covid19-global-forecasting-week-1/train.csv')\n",
    "test = pd.read_csv('../input/covid19-global-forecasting-week-1/test.csv')"
   ]
  },
  {
   "cell_type": "markdown",
   "metadata": {},
   "source": [
    "## Check the data feature.\n",
    "Let's check below feature on train/test set\n",
    "* date period\n",
    "* country count"
   ]
  },
  {
   "cell_type": "code",
   "execution_count": null,
   "metadata": {},
   "outputs": [],
   "source": [
    "print (\"How many Province on train set ==> \" +str(len(train['Province/State'].unique())))\n",
    "print (\"How many country on train set ==> \" +str(len(train['Country/Region'].unique())))\n",
    "print (\"Date period for train set ==> \" +train['Date'].unique()[0]+\" to \"+train['Date'].unique()[-1])\n",
    "print (\"How many Province on test set ==> \" +str(len(test['Province/State'].unique())))\n",
    "print (\"How many country on test set ==> \" +str(len(test['Country/Region'].unique())))\n",
    "print (\"Date period for test set ==> \" +test['Date'].unique()[0]+\" to \"+test['Date'].unique()[-1])"
   ]
  },
  {
   "cell_type": "markdown",
   "metadata": {},
   "source": [
    "### There are time overlap for train/test set ==> 2020-03-12 to 2020-03-18\n",
    "So we have 03-12 to 03-18's answer on train set, submit will freeze on **2020-03-26**, we need to predict how many comfirmedcase and fatalities on **2020-03-26** to **2020-04-23** time period, LB will keep update until **2020-04-23**"
   ]
  },
  {
   "cell_type": "code",
   "execution_count": null,
   "metadata": {},
   "outputs": [],
   "source": [
    "from sklearn import linear_model\n",
    "from sklearn.preprocessing import PolynomialFeatures\n",
    "from sklearn.pipeline import Pipeline\n",
    "from sklearn.linear_model import LinearRegression\n",
    "\n",
    "\n",
    "import numpy as np # linear algebra\n",
    "import pandas as pd # data processing, CSV file I/O (e.g. pd.read_csv)\n",
    "import matplotlib.pyplot as plt\n",
    "from matplotlib import dates\n",
    "import datetime\n",
    "\n",
    "import plotly.graph_objects as go\n",
    "import plotly.express as px\n",
    "import plotly.io as pio\n",
    "pio.templates.default = \"plotly_dark\"\n",
    "from plotly.subplots import make_subplots\n",
    "\n",
    "import os\n",
    "for dirname, _, filenames in os.walk('/kaggle/input'):\n",
    "    for filename in filenames:\n",
    "        print(os.path.join(dirname, filename))\n",
    "        "
   ]
  },
  {
   "cell_type": "code",
   "execution_count": null,
   "metadata": {},
   "outputs": [],
   "source": [
    "train = pd.read_csv('../input/covid19-global-forecasting-week-1/train.csv')\n",
    "test = pd.read_csv('../input/covid19-global-forecasting-week-1/test.csv')\n",
    "# dictionary = {'*':''}\n",
    "# train = train.replace(dictionary, regex=True, inplace=True)\n",
    "# train = train[(train['Country/Region'] == \"US\") &(train['Province/State'] == \"New York\")]\n",
    "# test = test[(test['Country/Region'] == \"US\") & (test['Province/State'] == \"New York\")]\n",
    "us_train = train[train['Country/Region'] == 'US']\n",
    "us_test = test[test['Country/Region'] == 'US']\n",
    "# us_train.head()\n",
    "# us_test.head() \n",
    "tw_train = train[train['Country/Region'] == 'Taiwan*']\n",
    "tw_test = test[test['Country/Region'] == 'Taiwan*']\n",
    "\n",
    "\n",
    "china_train = train[train['Country/Region'] == 'China']\n",
    "china_test = test[test['Country/Region'] == 'China']\n",
    "\n",
    "\n",
    "germany_train = train[train['Country/Region'] == 'Germany']\n",
    "germany_test = test[test['Country/Region'] == 'Germany']\n",
    "# np.array(range(len(test))).reshape((-1,1))\n",
    "countrylist = [[us_train, us_test], [tw_train, tw_test], [germany_train, germany_test], [china_train, china_test]]\n",
    "# countrylist = [[us_train, us_test]]"
   ]
  },
  {
   "cell_type": "code",
   "execution_count": null,
   "metadata": {},
   "outputs": [],
   "source": [
    "us_test.head(5)"
   ]
  },
  {
   "cell_type": "code",
   "execution_count": null,
   "metadata": {},
   "outputs": [],
   "source": [
    "def run_model(df_list):        \n",
    "    for country in train['Country/Region'].unique():\n",
    "        print ('training model for country ==>'+country)\n",
    "        country_pd_train = train[train['Country/Region']==country]\n",
    "        country_pd_test = test[test['Country/Region']==country]\n",
    "#         print(country_pd_train['Province/State'].isna().unique()) \n",
    "        if country_pd_train['Province/State'].isna().unique()==True:   \n",
    "            x = np.array(range(len(country_pd_train))).reshape((-1,1))\n",
    "            y = country_pd_train['ConfirmedCases']\n",
    "            model = Pipeline([('poly', PolynomialFeatures(degree=2)),\n",
    "                             ('linear', LinearRegression(fit_intercept=False))])\n",
    "            model = model.fit(x, y)\n",
    "    #         print(len(country_pd_test))\n",
    "    #         print(range(len(country_pd_test)))\n",
    "    #         print(np.array(range(len(country_pd_test)))+50)\n",
    "            predict_x = (np.array(range(len(country_pd_test)))+60).reshape((-1,1))\n",
    "\n",
    "            test.loc[test['Country/Region']==country,'ConfirmedCases'] = model.predict(predict_x)\n",
    "\n",
    "        else:\n",
    "            for state in country_pd_train['Province/State'].unique():\n",
    "                state_pd = country_pd_train[country_pd_train['Province/State']==state] \n",
    "                state_pd_test = country_pd_test[country_pd_test['Province/State']==state] \n",
    "                x = np.array(range(len(state_pd))).reshape((-1,1))\n",
    "                y = state_pd['ConfirmedCases']\n",
    "                model = Pipeline([('poly', PolynomialFeatures(degree=2)),\n",
    "                             ('linear', LinearRegression(fit_intercept=False))])\n",
    "                model = model.fit(x, y)\n",
    "                predict_x = (np.array(range(len(state_pd_test)))+60).reshape((-1,1))\n",
    "                test.loc[(test['Country/Region']==country)&(test['Province/State']==state),'ConfirmedCases'] = model.predict(predict_x)\n",
    "    return(train,test)"
   ]
  },
  {
   "cell_type": "code",
   "execution_count": null,
   "metadata": {},
   "outputs": [],
   "source": [
    "def plot_chart(train, test):\n",
    "    country = train['Country/Region'].unique()\n",
    "    print(str(country[0]))\n",
    "    df_train = train.drop(columns=['Id'])\n",
    "    df_test = test.drop(columns=['ForecastId'])\n",
    "    df_train['type'] = 'history'\n",
    "    df_test['type'] = 'forecast'\n",
    "    df_all = pd.concat([df_train, df_test])\n",
    "    grouped = df_all.groupby(['Date',  'type'])['Date', 'ConfirmedCases'].sum().reset_index()\n",
    "    fig = px.line(grouped, x=\"Date\", y=\"ConfirmedCases\", color = 'type', title= str(country[0]) + \" Confirmed Cases Over Time\")\n",
    "    # fig.update_traces(mode='markers+lines')\n",
    "    fig.show()"
   ]
  },
  {
   "cell_type": "code",
   "execution_count": null,
   "metadata": {},
   "outputs": [],
   "source": [
    "for i in countrylist:\n",
    "    train = i[0]\n",
    "    test = i[1]\n",
    "    train, test= run_model(countrylist)\n",
    "    plot_chart(train, test)\n",
    "\n"
   ]
  },
  {
   "cell_type": "code",
   "execution_count": null,
   "metadata": {
    "collapsed": true
   },
   "outputs": [],
   "source": [
    "for country in train['Country/Region'].unique():\n",
    "    print ('training model for country ==>'+country)\n",
    "    country_pd_train = train[train['Country/Region']==country]\n",
    "    country_pd_test = test[test['Country/Region']==country]\n",
    "    if country_pd_train['Province/State'].isna().unique()==True:\n",
    "        x = np.array(range(len(country_pd_train))).reshape((-1,1))\n",
    "        y = country_pd_train['Fatalities']\n",
    "        model = Pipeline([('poly', PolynomialFeatures(degree=3)),\n",
    "                         ('linear', LinearRegression(fit_intercept=False))])\n",
    "        model = model.fit(x, y)\n",
    "        predict_x = (np.array(range(len(country_pd_test)))+50).reshape((-1,1))\n",
    "        test.loc[test['Country/Region']==country,'Fatalities'] = model.predict(predict_x)\n",
    "    else:\n",
    "        for state in country_pd_train['Province/State'].unique():\n",
    "            state_pd = country_pd_train[country_pd_train['Province/State']==state] \n",
    "            state_pd_test = country_pd_test[country_pd_test['Province/State']==state] \n",
    "            x = np.array(range(len(state_pd))).reshape((-1,1))\n",
    "            y = state_pd['Fatalities']\n",
    "            model = Pipeline([('poly', PolynomialFeatures(degree=3)),\n",
    "                         ('linear', LinearRegression(fit_intercept=False))])\n",
    "            model = model.fit(x, y)\n",
    "            predict_x = (np.array(range(len(state_pd_test)))+50).reshape((-1,1))\n",
    "            test.loc[(test['Country/Region']==country)&(test['Province/State']==state),'Fatalities'] = model.predict(predict_x)"
   ]
  },
  {
   "cell_type": "code",
   "execution_count": null,
   "metadata": {},
   "outputs": [],
   "source": [
    "df_train = train.drop(columns=['Id'])\n",
    "df_test = test.drop(columns=['ForecastId'])\n",
    "df_train['type'] = 'history'\n",
    "df_test['type'] = 'forecast'\n",
    "df_all = pd.concat([df_train, df_test])\n",
    "\n",
    "grouped = df_all.groupby(['Date',  'type'])['Date', 'ConfirmedCases'].sum().reset_index()\n",
    "\n",
    "\n",
    "fig = px.line(grouped, x=\"Date\", y=\"ConfirmedCases\", color = 'type', title=\"Taiwan Confirmed Cases Over Time\")\n",
    "# fig.update_traces(mode='markers+lines')\n",
    "fig.show()"
   ]
  },
  {
   "cell_type": "code",
   "execution_count": null,
   "metadata": {},
   "outputs": [],
   "source": [
    "df_train = train.drop(columns=['Id'])\n",
    "df_test = test.drop(columns=['ForecastId'])\n",
    "df_train['type'] = 'history'\n",
    "df_test['type'] = 'forecast'\n",
    "df_all = pd.concat([df_train, df_test])\n",
    "\n",
    "grouped = df_all.groupby(['Date',  'type'])['Date', 'ConfirmedCases'].sum().reset_index()\n",
    "\n",
    "\n",
    "fig = px.line(grouped, x=\"Date\", y=\"ConfirmedCases\", color = 'type', title=\"Taiwan Confirmed Cases Over Time\")\n",
    "# fig.update_traces(mode='markers+lines')\n",
    "fig.show()"
   ]
  },
  {
   "cell_type": "code",
   "execution_count": null,
   "metadata": {},
   "outputs": [],
   "source": [
    "# test[test['Country/Region'] == 'China']\n",
    "# # test[test[['Country/Region', 'Province/State']].notnull().all(1)]"
   ]
  }
 ],
 "metadata": {
  "kernelspec": {
   "display_name": "Python 2",
   "language": "python",
   "name": "python2"
  },
  "language_info": {
   "codemirror_mode": {
    "name": "ipython",
    "version": 2
   },
   "file_extension": ".py",
   "mimetype": "text/x-python",
   "name": "python",
   "nbconvert_exporter": "python",
   "pygments_lexer": "ipython2",
   "version": "2.7.17"
  }
 },
 "nbformat": 4,
 "nbformat_minor": 4
}
